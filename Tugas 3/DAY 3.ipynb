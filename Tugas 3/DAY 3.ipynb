{
 "cells": [
  {
   "cell_type": "markdown",
   "metadata": {},
   "source": [
    "Soal A.31 \n",
    "Jelaskan perbedaannya sequence and selection dalam control process?"
   ]
  },
  {
   "cell_type": "markdown",
   "metadata": {},
   "source": [
    "JAWAB : Perbedaanya adalah \n",
    "squence = Mendeskripsikan urutan program yang dilakukan satu demi satu\n",
    "Selection = Program yang memungkinkan dapat memilih tindakan yang berbeda. contoh : if,Nested if"
   ]
  },
  {
   "cell_type": "markdown",
   "metadata": {},
   "source": [
    "Soal 3.A2.\n",
    "Program Java berikut untuk menampilkan biaya tiket bioskop.\n",
    "\n",
    "price = 10.00; \n",
    "int age; \n",
    "age = ?;\n",
    "System.out.print(\"Umur penonton : \"+age); \n",
    "// code to reduce ticket price for children goes here \n",
    "System.out.println(\"Ticket price = \" + price);\n",
    "\n",
    "[a] type data apakan yang tepat intuk variable price? dan jika variable age diisikan nilai 11 bagaimanakah keluaran program tersebut?"
   ]
  },
  {
   "cell_type": "code",
   "execution_count": 1,
   "metadata": {},
   "outputs": [
    {
     "name": "stdout",
     "output_type": "stream",
     "text": [
      "Umur penonton : 11\n",
      "Ticket price = 10.0\n"
     ]
    },
    {
     "data": {
      "text/plain": [
       "null"
      ]
     },
     "execution_count": 1,
     "metadata": {},
     "output_type": "execute_result"
    }
   ],
   "source": [
    "double price = 10.00; \n",
    "int age; \n",
    "age = 11;\n",
    "System.out.println(\"Umur penonton : \"+age); \n",
    "// code to reduce ticket price for children goes here \n",
    "System.out.println(\"Ticket price = \" + price);"
   ]
  },
  {
   "cell_type": "markdown",
   "metadata": {},
   "source": [
    "[b] Ubahlah program tersebut sehingga anak-anak di bawah usia 14 mendapatkan tiket setengah harga."
   ]
  },
  {
   "cell_type": "code",
   "execution_count": null,
   "metadata": {},
   "outputs": [],
   "source": [
    "price = 5.00;\n",
    "int age; \n",
    "age = <14;\n",
    " if (<14 )\n",
    "System.out.print(\"Umur penonton : \"+age); \n",
    "// code to reduce ticket price for children goes here \n",
    "System.out.println(\"Ticket price = \" + price);"
   ]
  },
  {
   "cell_type": "markdown",
   "metadata": {},
   "source": [
    "Soal 3.A3.\n",
    "Berdasarkan program java berikut ini :\n",
    "\n",
    "int x; \n",
    "x = ?; \n",
    " if (x > 10) { \n",
    "   System.out.println(\"Green\"); \n",
    " }else{ \n",
    "   System.out.println(\"Blue\"); \n",
    "  } \n",
    "\n",
    " System.out.println(\"Red\");\n",
    "Jawablah pertanyaan berikut bagaimana output program tersebut\n",
    "\n",
    "[a] jika variable x diisikan 10?"
   ]
  },
  {
   "cell_type": "code",
   "execution_count": 2,
   "metadata": {},
   "outputs": [
    {
     "name": "stdout",
     "output_type": "stream",
     "text": [
      "Umur penonton : 14\n",
      "Ticket price = 5.0\n"
     ]
    },
    {
     "data": {
      "text/plain": [
       "null"
      ]
     },
     "execution_count": 2,
     "metadata": {},
     "output_type": "execute_result"
    }
   ],
   "source": [
    "double price = 10.00; \n",
    "double discount_price;\n",
    "int age; \n",
    "age = 14;\n",
    "discount_price=price/2;\n",
    "\n",
    "System.out.println(\"Umur penonton : \"+age); \n",
    "if(age>14){\n",
    "System.out.println(\"Ticket price = \" + price);\n",
    "}else {\n",
    "    System.out.println(\"Ticket price = \" + discount_price);\n",
    "}"
   ]
  },
  {
   "cell_type": "code",
   "execution_count": 27,
   "metadata": {},
   "outputs": [
    {
     "name": "stdout",
     "output_type": "stream",
     "text": [
      "Blue\n",
      "Red\n"
     ]
    },
    {
     "data": {
      "text/plain": [
       "null"
      ]
     },
     "execution_count": 27,
     "metadata": {},
     "output_type": "execute_result"
    }
   ],
   "source": [
    "int x; \n",
    "x = 10; \n",
    " if (x > 10) { \n",
    "   System.out.println(\"Green\"); \n",
    " }else{ \n",
    "   System.out.println(\"Blue\"); \n",
    "  } \n",
    "\n",
    " System.out.println(\"Red\");"
   ]
  },
  {
   "cell_type": "markdown",
   "metadata": {},
   "source": [
    "[b] jika variable x diisikan 20?"
   ]
  },
  {
   "cell_type": "code",
   "execution_count": 28,
   "metadata": {},
   "outputs": [
    {
     "name": "stdout",
     "output_type": "stream",
     "text": [
      "Blue\n",
      "Red\n"
     ]
    },
    {
     "data": {
      "text/plain": [
       "null"
      ]
     },
     "execution_count": 28,
     "metadata": {},
     "output_type": "execute_result"
    }
   ],
   "source": [
    "int x; \n",
    "x = 20; \n",
    " if (x > 20) { \n",
    "   System.out.println(\"Green\"); \n",
    " }else{ \n",
    "   System.out.println(\"Blue\"); \n",
    "  } \n",
    "\n",
    " System.out.println(\"Red\");"
   ]
  },
  {
   "cell_type": "markdown",
   "metadata": {},
   "source": [
    "Soal 3.A4.\n",
    "Berdasarkan program java berikut ini:\n",
    "\n",
    "int y; \n",
    "\n",
    "y = ?; \n",
    "\n",
    "switch (y) \n",
    " { case 1: \n",
    "   case 2: \n",
    "   System.out.println(\"Green\"); break; \n",
    "   case 3: \n",
    "   case 4: \n",
    "   case 5: System.out.println(\"Blue\"); break; \n",
    "   default: System.out.println(\"numbers 1-5 only\"); \n",
    "  } \n",
    " System.out.println(\"Red\");\n",
    "Jawablah pertanyaan berikut, bagaimana output program tersebut"
   ]
  },
  {
   "cell_type": "markdown",
   "metadata": {},
   "source": [
    "[a] jika variable y diisikan 1?"
   ]
  },
  {
   "cell_type": "code",
   "execution_count": 21,
   "metadata": {},
   "outputs": [
    {
     "name": "stdout",
     "output_type": "stream",
     "text": [
      "Green\n",
      "Red\n"
     ]
    },
    {
     "data": {
      "text/plain": [
       "null"
      ]
     },
     "execution_count": 21,
     "metadata": {},
     "output_type": "execute_result"
    }
   ],
   "source": [
    "int y; \n",
    "\n",
    "y = 1; \n",
    "\n",
    "switch (y) \n",
    " { case 1: \n",
    "   case 2: \n",
    "   System.out.println(\"Green\"); break; \n",
    "   case 3: \n",
    "   case 4: \n",
    "   case 5: System.out.println(\"Blue\"); break; \n",
    "   default: System.out.println(\"numbers 1-5 only\"); \n",
    "  } \n",
    " System.out.println(\"Red\");"
   ]
  },
  {
   "cell_type": "markdown",
   "metadata": {},
   "source": [
    "[b] jika variable y diisikan 2?"
   ]
  },
  {
   "cell_type": "code",
   "execution_count": 22,
   "metadata": {},
   "outputs": [
    {
     "name": "stdout",
     "output_type": "stream",
     "text": [
      "Green\n",
      "Red\n"
     ]
    },
    {
     "data": {
      "text/plain": [
       "null"
      ]
     },
     "execution_count": 22,
     "metadata": {},
     "output_type": "execute_result"
    }
   ],
   "source": [
    "int y; \n",
    "\n",
    "y = 2; \n",
    "\n",
    "switch (y) \n",
    " { case 1: \n",
    "   case 2: \n",
    "   System.out.println(\"Green\"); break; \n",
    "   case 3: \n",
    "   case 4: \n",
    "   case 5: System.out.println(\"Blue\"); break; \n",
    "   default: System.out.println(\"numbers 1-5 only\"); \n",
    "  } \n",
    " System.out.println(\"Red\");"
   ]
  },
  {
   "cell_type": "markdown",
   "metadata": {},
   "source": [
    "[c] jika variable y diisikan 3?"
   ]
  },
  {
   "cell_type": "code",
   "execution_count": 23,
   "metadata": {},
   "outputs": [
    {
     "name": "stdout",
     "output_type": "stream",
     "text": [
      "Blue\n",
      "Red\n"
     ]
    },
    {
     "data": {
      "text/plain": [
       "null"
      ]
     },
     "execution_count": 23,
     "metadata": {},
     "output_type": "execute_result"
    }
   ],
   "source": [
    "int y; \n",
    "\n",
    "y = 3; \n",
    "\n",
    "switch (y) \n",
    " { case 1: \n",
    "   case 2: \n",
    "   System.out.println(\"Green\"); break; \n",
    "   case 3: \n",
    "   case 4: \n",
    "   case 5: System.out.println(\"Blue\"); break; \n",
    "   default: System.out.println(\"numbers 1-5 only\"); \n",
    "  } \n",
    " System.out.println(\"Red\");"
   ]
  },
  {
   "cell_type": "markdown",
   "metadata": {},
   "source": [
    "[d] jika variable y diisikan 10?"
   ]
  },
  {
   "cell_type": "code",
   "execution_count": 24,
   "metadata": {},
   "outputs": [
    {
     "name": "stdout",
     "output_type": "stream",
     "text": [
      "numbers 1-5 only\n",
      "Red\n"
     ]
    },
    {
     "data": {
      "text/plain": [
       "null"
      ]
     },
     "execution_count": 24,
     "metadata": {},
     "output_type": "execute_result"
    }
   ],
   "source": [
    "int y; \n",
    "\n",
    "y = 10; \n",
    "\n",
    "switch (y) \n",
    " { case 1: \n",
    "   case 2: \n",
    "   System.out.println(\"Green\"); break; \n",
    "   case 3: \n",
    "   case 4: \n",
    "   case 5: System.out.println(\"Blue\"); break; \n",
    "   default: System.out.println(\"numbers 1-5 only\"); \n",
    "  } \n",
    " System.out.println(\"Red\");"
   ]
  },
  {
   "cell_type": "markdown",
   "metadata": {},
   "source": [
    "[e] Jika statements break dihapus dari seleksi switch dan variable y diisikan 3?"
   ]
  },
  {
   "cell_type": "code",
   "execution_count": 25,
   "metadata": {},
   "outputs": [
    {
     "name": "stdout",
     "output_type": "stream",
     "text": [
      "Blue\n",
      "numbers 1-5 only\n",
      "Red\n"
     ]
    },
    {
     "data": {
      "text/plain": [
       "null"
      ]
     },
     "execution_count": 25,
     "metadata": {},
     "output_type": "execute_result"
    }
   ],
   "source": [
    "int y; \n",
    "\n",
    "y = 3; \n",
    "\n",
    "switch (3) \n",
    " { case 1: \n",
    "   case 2: \n",
    "   System.out.println(\"Green\");  \n",
    "   case 3: \n",
    "   case 4: \n",
    "   case 5: System.out.println(\"Blue\");  \n",
    "   default: System.out.println(\"numbers 1-5 only\"); \n",
    "  } \n",
    " System.out.println(\"Red\");"
   ]
  },
  {
   "cell_type": "markdown",
   "metadata": {},
   "source": [
    "[f] Jika statements default dihapus dari seleksi switch dan variable y diisikan 10?"
   ]
  },
  {
   "cell_type": "code",
   "execution_count": 26,
   "metadata": {},
   "outputs": [
    {
     "name": "stdout",
     "output_type": "stream",
     "text": [
      "Red\n"
     ]
    },
    {
     "data": {
      "text/plain": [
       "null"
      ]
     },
     "execution_count": 26,
     "metadata": {},
     "output_type": "execute_result"
    }
   ],
   "source": [
    "int y; \n",
    "\n",
    "y = 10; \n",
    "\n",
    "switch (10) \n",
    " { case 1: \n",
    "   case 2: \n",
    "   System.out.println(\"Green\"); break; \n",
    "   case 3: \n",
    "   case 4: \n",
    "   case 5: System.out.println(\"Blue\"); break; \n",
    "    \n",
    "  } \n",
    " System.out.println(\"Red\");"
   ]
  },
  {
   "cell_type": "code",
   "execution_count": 12,
   "metadata": {},
   "outputs": [
    {
     "name": "stdout",
     "output_type": "stream",
     "text": [
      "YES 1\n",
      "YES 2\n",
      "YES 3\n",
      "YES 4\n",
      "OK\n"
     ]
    },
    {
     "data": {
      "text/plain": [
       "null"
      ]
     },
     "execution_count": 12,
     "metadata": {},
     "output_type": "execute_result"
    }
   ],
   "source": [
    "//program ulang1\n",
    " for(int i = 1; i <= 4; i++) \n",
    " { \n",
    "   System.out.println(\"YES \"+i);  \n",
    " } \n",
    " System.out.println(\"OK\");"
   ]
  },
  {
   "cell_type": "markdown",
   "metadata": {},
   "source": [
    "program forif1"
   ]
  },
  {
   "cell_type": "code",
   "execution_count": 19,
   "metadata": {},
   "outputs": [
    {
     "name": "stdout",
     "output_type": "stream",
     "text": [
      "1\n",
      "2\n",
      "3\n",
      "4\n",
      "5\n"
     ]
    },
    {
     "data": {
      "text/plain": [
       "null"
      ]
     },
     "execution_count": 19,
     "metadata": {},
     "output_type": "execute_result"
    }
   ],
   "source": [
    "//program forif1\n",
    "    for(int l=1; l<=10; l++)  \n",
    "    { if (l > 5)   \n",
    "      { break;   } \n",
    "        System.out.println(l);  \n",
    "    }\n"
   ]
  },
  {
   "cell_type": "markdown",
   "metadata": {},
   "source": [
    "program forif2"
   ]
  },
  {
   "cell_type": "code",
   "execution_count": 20,
   "metadata": {},
   "outputs": [
    {
     "name": "stdout",
     "output_type": "stream",
     "text": [
      "6\n",
      "7\n",
      "8\n",
      "9\n",
      "10\n"
     ]
    },
    {
     "data": {
      "text/plain": [
       "null"
      ]
     },
     "execution_count": 20,
     "metadata": {},
     "output_type": "execute_result"
    }
   ],
   "source": [
    "//program forif2\n",
    "    for(int i=1; i<=10; i++)  \n",
    "    { if (i <= 5){ continue; } \n",
    "    System.out.println(i);}"
   ]
  },
  {
   "cell_type": "markdown",
   "metadata": {},
   "source": [
    "Rancanglah dan implementasikan program yang membandingkan dua angka dan kemudian menampilkan pesan “NUMBERS ARE EQUAL”, jika dua angka tersebut sama dan pesan “NUMBERS ARE NOT EQUAL”, jika kedua angka tersebut tidak sama. [jangan lupa untuk menggunakan double sama dengan (= =) untuk menguji kesetaraan (equality)"
   ]
  },
  {
   "cell_type": "code",
   "execution_count": 5,
   "metadata": {},
   "outputs": [
    {
     "name": "stdout",
     "output_type": "stream",
     "text": [
      "Pebandingan\n",
      "X==Y :false\n"
     ]
    },
    {
     "data": {
      "text/plain": [
       "null"
      ]
     },
     "execution_count": 5,
     "metadata": {},
     "output_type": "execute_result"
    }
   ],
   "source": [
    "System.out.println(\"Pebandingan\");\n",
    "\n",
    "int x=50, y=90;\n",
    "\n",
    "{\n",
    "System.out.println(\"X==Y :\"+(x==y));\n",
    "\n",
    "\n",
    "                   \n",
    "}"
   ]
  },
  {
   "cell_type": "markdown",
   "metadata": {},
   "source": [
    "Rancanglah dan implementasikan program yang membandingkan dua angka dan kemudian menampilkan pesan “NUMBERS ARE EQUAL”, jika dua angka tersebut sama dan pesan “NUMBERS ARE NOT EQUAL”, jika kedua angka tersebut tidak sama. [jangan lupa untuk menggunakan double sama dengan (= =) untuk menguji kesetaraan (equality)"
   ]
  },
  {
   "cell_type": "markdown",
   "metadata": {},
   "source": [
    "Soal 3.B3.\n",
    "Jelaskan kapan waktu yang tepat untuk penggunaan\n",
    "\n",
    "pernyataan if?\n",
    "pernyataan if… else?\n",
    "pernyataan switch?"
   ]
  },
  {
   "cell_type": "markdown",
   "metadata": {},
   "source": [
    "jawab ! waktu yang tepat untuk if adalah hanya di kerjakan kalau kondisinya benar, IF ELSE jika kondisi benar maka kerjakan ini, jika salah maka kerjakan yang lain, setelah itu di lanjut, SWITCH, dalam hal ini kita dapat menyertakan kondisi."
   ]
  },
  {
   "cell_type": "markdown",
   "metadata": {},
   "source": [
    "Soal 3.B4.\n",
    "Rubahlah program forif1 dan forif2 dalam 3.A Self-test Questions soal Soal 3.A6. menggunakan bentuk perulangan while dan do..while"
   ]
  },
  {
   "cell_type": "code",
   "execution_count": 4,
   "metadata": {},
   "outputs": [
    {
     "name": "stdout",
     "output_type": "stream",
     "text": [
      "1\n",
      "2\n",
      "3\n",
      "4\n",
      "5\n"
     ]
    },
    {
     "data": {
      "text/plain": [
       "null"
      ]
     },
     "execution_count": 4,
     "metadata": {},
     "output_type": "execute_result"
    }
   ],
   "source": [
    "int l = 1;\n",
    "   \n",
    "      while (l <= 10) \n",
    "      { if (l > 5)   \n",
    "      { break;   } \n",
    "       {\n",
    "         System.out.println ( + l);\n",
    "         ++l;\n",
    "       }\n",
    "      }\n",
    "       "
   ]
  },
  {
   "cell_type": "code",
   "execution_count": 3,
   "metadata": {},
   "outputs": [
    {
     "name": "stdout",
     "output_type": "stream",
     "text": [
      "1\n",
      "2\n",
      "3\n",
      "4\n",
      "5\n",
      "6\n",
      "7\n",
      "8\n",
      "9\n",
      "10\n"
     ]
    },
    {
     "data": {
      "text/plain": [
       "null"
      ]
     },
     "execution_count": 3,
     "metadata": {},
     "output_type": "execute_result"
    }
   ],
   "source": [
    "int l = 1;\n",
    "do{\n",
    "     System.out.println( + l);\n",
    "         ++l;\n",
    "}\n",
    "   \n",
    "      while (l <= 10);\n",
    "       { if (l <= 5) \n",
    "     \n",
    "       {\n",
    "        \n",
    "       }\n",
    "      }\n",
    "       "
   ]
  },
  {
   "cell_type": "code",
   "execution_count": null,
   "metadata": {},
   "outputs": [],
   "source": []
  }
 ],
 "metadata": {
  "kernelspec": {
   "display_name": "Java",
   "language": "java",
   "name": "java"
  },
  "language_info": {
   "codemirror_mode": "text/x-java",
   "file_extension": ".java",
   "mimetype": "",
   "name": "Java",
   "nbconverter_exporter": "",
   "version": "1.8.0_121"
  },
  "toc": {
   "base_numbering": 1,
   "nav_menu": {},
   "number_sections": false,
   "sideBar": false,
   "skip_h1_title": false,
   "title_cell": "Table of Contents",
   "title_sidebar": "Contents",
   "toc_cell": false,
   "toc_position": {},
   "toc_section_display": false,
   "toc_window_display": false
  }
 },
 "nbformat": 4,
 "nbformat_minor": 2
}

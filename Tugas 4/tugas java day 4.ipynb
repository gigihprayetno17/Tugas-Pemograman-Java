{
 "cells": [
  {
   "cell_type": "markdown",
   "metadata": {},
   "source": [
    "## Array\n",
    "\n",
    "Array adalah kumpulan variabel bertipe sama yang dapat diakses melalui indeks. Elemen array diakses menggunakan simbol kurung siku [].  Setelah dideklarasikan, array harus diinisialisasi terlebih dulu.\n",
    "\n",
    "Contoh:\n",
    "``` javascript\n",
    "   int[] tinggi;\n",
    "   tinggi = new int[100];  //ada 100 elemen, mulai dari indeks 0 sd 99\n",
    "```\n",
    "atau dapat digabungkan:\n",
    "``` javascript\n",
    "   int[] tinggi  = new int[100];\n",
    "```\n",
    "Jalankanlah Contoh kode java dibawah ini (perhatikan penggunaan tinggi.length untuk mendapat ukuran array):\n"
   ]
  },
  {
   "cell_type": "code",
   "execution_count": 1,
   "metadata": {},
   "outputs": [
    {
     "name": "stdout",
     "output_type": "stream",
     "text": [
      "Tinggi indeks ke-0 adalah 3\n",
      "Tinggi indeks ke-1 adalah 6\n",
      "Tinggi indeks ke-2 adalah 3\n"
     ]
    },
    {
     "data": {
      "text/plain": [
       "null"
      ]
     },
     "execution_count": 1,
     "metadata": {},
     "output_type": "execute_result"
    }
   ],
   "source": [
    "//Program 4.1  \n",
    "   int[] tinggi; //deklarasi\n",
    "   tinggi = new int[3]; //inisiasi\n",
    "   tinggi[0] = 3;  \n",
    "   tinggi[1] = 6;\n",
    "   tinggi[2] = 3;\n",
    "   \n",
    "   for(int i=0;i<tinggi.length;i++) {\n",
    "       System.out.println(\"Tinggi indeks ke-\"+i+\" adalah \"+tinggi[i]);\n",
    "   }"
   ]
  },
  {
   "cell_type": "markdown",
   "metadata": {},
   "source": [
    "#### Tugas 4.1\n",
    "\n",
    "Ubahlah kode diatas pada bagian inisiasi variable *tinggi* menjadi sebagai berikut:\n",
    "``` javascript\n",
    " tinggi = new int[] {3,6,3};\n",
    "```\n",
    "Bagaimanakah hasil dan kesimpulannya?"
   ]
  },
  {
   "cell_type": "code",
   "execution_count": 2,
   "metadata": {},
   "outputs": [
    {
     "name": "stdout",
     "output_type": "stream",
     "text": [
      "Tinggi indeks ke-0 adalah 3\n",
      "Tinggi indeks ke-1 adalah 6\n",
      "Tinggi indeks ke-2 adalah 3\n"
     ]
    },
    {
     "data": {
      "text/plain": [
       "null"
      ]
     },
     "execution_count": 2,
     "metadata": {},
     "output_type": "execute_result"
    }
   ],
   "source": [
    "//Program 4.1  \n",
    "   int[] tinggi; //deklarasi\n",
    "  tinggi = new int[] {3,6,3};\n",
    "   \n",
    "   for(int i=0;i<tinggi.length;i++) {\n",
    "       System.out.println(\"Tinggi indeks ke-\"+i+\" adalah \"+tinggi[i]);\n",
    "   }"
   ]
  },
  {
   "cell_type": "markdown",
   "metadata": {},
   "source": [
    "#### Tugas 4.2\n",
    "\n",
    "Modifikasi program diatas untuk menampilkan informasi sebagai berikut:\n",
    "\n",
    "[a] Menampilkan indeks yang memiliki nilai 3\n",
    "\n"
   ]
  },
  {
   "cell_type": "code",
   "execution_count": 14,
   "metadata": {},
   "outputs": [
    {
     "name": "stdout",
     "output_type": "stream",
     "text": [
      "Tinggi adalah:3\n",
      "Tinggi adalah:6\n",
      "Tinggi adalah:3\n"
     ]
    },
    {
     "data": {
      "text/plain": [
       "null"
      ]
     },
     "execution_count": 14,
     "metadata": {},
     "output_type": "execute_result"
    }
   ],
   "source": [
    "   int[] tinggi;\n",
    "   tinggi = new int[3];\n",
    "   tinggi[0] = 3;  \n",
    "   tinggi[1] = 6;\n",
    "   tinggi[2] = 3;\n",
    "   \n",
    "   for(int n:tinggi) { \n",
    "       System.out.println(\"Tinggi adalah:\"+n);\n",
    "   }\n"
   ]
  },
  {
   "cell_type": "markdown",
   "metadata": {},
   "source": [
    "[b] Menampilkan nilai pada indeks: 0,2"
   ]
  },
  {
   "cell_type": "code",
   "execution_count": 17,
   "metadata": {},
   "outputs": [
    {
     "name": "stdout",
     "output_type": "stream",
     "text": [
      "Tinggi indeks ke-0 adalah 3\n",
      "Tinggi indeks ke-2 adalah 3\n"
     ]
    },
    {
     "data": {
      "text/plain": [
       "null"
      ]
     },
     "execution_count": 17,
     "metadata": {},
     "output_type": "execute_result"
    }
   ],
   "source": [
    "  int[] tinggi;\n",
    "    tinggi = new int[] {3,6,3};\n",
    "   \n",
    "   for(int i=2;i<tinggi.length;i++) {\n",
    "       System.out.println(\"Tinggi indeks ke-\"+0+\" adalah \"+tinggi[0]);\n",
    "       System.out.println(\"Tinggi indeks ke-\"+2+\" adalah \"+tinggi[2]);\n",
    "   }\n",
    "      \n",
    "\n",
    "\n"
   ]
  },
  {
   "cell_type": "code",
   "execution_count": null,
   "metadata": {},
   "outputs": [],
   "source": []
  },
  {
   "cell_type": "markdown",
   "metadata": {},
   "source": [
    "### Array: For-Each\n",
    "\n",
    "Dimulai dari Java SE 5.0 keatas,  programmer dapat  melakukan loop untuk setiap elemen array dengan mudah. Bentuk dari for-each adalah sebagai berikut:\n",
    "``` javascript\n",
    "for (variable : array)  {\n",
    "   ….\n",
    "}\n",
    "```\n",
    "Jalankan kode berikut untuk contoh array pada aplikasi sebelumnya dapat ditulis ulang sebagai berikut"
   ]
  },
  {
   "cell_type": "code",
   "execution_count": 6,
   "metadata": {},
   "outputs": [
    {
     "name": "stdout",
     "output_type": "stream",
     "text": [
      "Tinggi adalah:3\n",
      "Tinggi adalah:6\n",
      "Tinggi adalah:3\n"
     ]
    },
    {
     "data": {
      "text/plain": [
       "null"
      ]
     },
     "execution_count": 6,
     "metadata": {},
     "output_type": "execute_result"
    }
   ],
   "source": [
    "//Program 4.2   \n",
    "   int[] tinggi;\n",
    "   tinggi = new int[3];\n",
    "   tinggi[0] = 3;  \n",
    "   tinggi[1] = 6;\n",
    "   tinggi[2] = 3;\n",
    "   \n",
    "   for(int n:tinggi) { \n",
    "       System.out.println(\"Tinggi adalah:\"+n);\n",
    "   }"
   ]
  },
  {
   "cell_type": "markdown",
   "metadata": {},
   "source": [
    "#### Tugas 4.3\n",
    "Modifikasi  **Tugas 4.2**, ganti loop-nya dengan *for..each*."
   ]
  },
  {
   "cell_type": "code",
   "execution_count": 22,
   "metadata": {},
   "outputs": [
    {
     "ename": "'[' expected",
     "evalue": "'[' expected",
     "output_type": "error",
     "traceback": [
      "\u001b[1;31m'[' expected\u001b[0;0m",
      "\u001b[1;31m tinggi = new int {3,6,3}\u001b[0;0m",
      "\u001b[1;31m                 ^        \u001b[0;0m",
      "\u001b[1;31m\u001b[0;0m",
      "\u001b[1;31millegal start of expression\u001b[0;0m",
      "\u001b[1;31m tinggi = new int {3,6,3}\u001b[0;0m",
      "\u001b[1;31m                  ^^       \u001b[0;0m",
      "\u001b[1;31m\u001b[0;0m",
      "\u001b[1;31m']' expected\u001b[0;0m",
      "\u001b[1;31m tinggi = new int {3,6,3}\u001b[0;0m",
      "\u001b[1;31m                   ^      \u001b[0;0m",
      "\u001b[1;31m\u001b[0;0m",
      "\u001b[1;31m';' expected\u001b[0;0m",
      "\u001b[1;31m tinggi = new int {3,6,3}\u001b[0;0m",
      "\u001b[1;31m                    ^     \u001b[0;0m",
      "\u001b[1;31m\u001b[0;0m",
      "\u001b[1;31mnot a statement\u001b[0;0m",
      "\u001b[1;31m tinggi = new int {3,6,3}\u001b[0;0m",
      "\u001b[1;31m                     ^^    \u001b[0;0m",
      "\u001b[1;31m\u001b[0;0m",
      "\u001b[1;31m';' expected\u001b[0;0m",
      "\u001b[1;31m tinggi = new int {3,6,3}\u001b[0;0m",
      "\u001b[1;31m                      ^   \u001b[0;0m",
      "\u001b[1;31m\u001b[0;0m",
      "\u001b[1;31millegal start of type\u001b[0;0m",
      "\u001b[1;31m for(int n:tinggi) {\u001b[0;0m",
      "\u001b[1;31m ^                   \u001b[0;0m",
      "\u001b[1;31m\u001b[0;0m",
      "\u001b[1;31m')' expected\u001b[0;0m",
      "\u001b[1;31m for(int n:tinggi) {\u001b[0;0m",
      "\u001b[1;31m          ^          \u001b[0;0m",
      "\u001b[1;31m\u001b[0;0m",
      "\u001b[1;31m<identifier> expected\u001b[0;0m",
      "\u001b[1;31m for(int n:tinggi) {\u001b[0;0m",
      "\u001b[1;31m                 ^   \u001b[0;0m",
      "\u001b[1;31m\u001b[0;0m",
      "\u001b[1;31mclass, interface, or enum expected\u001b[0;0m",
      "\u001b[1;31m }\u001b[0;0m",
      "\u001b[1;31m ^ \u001b[0;0m"
     ]
    }
   ],
   "source": [
    "   int[ j ] tinggi;\n",
    "   \n",
    " tinggi = new int {3,6,3};\n",
    "   for(int n:tinggi) { \n",
    "       System.out.println(tinggi);\n",
    "   }\n"
   ]
  },
  {
   "cell_type": "markdown",
   "metadata": {},
   "source": [
    "### Array: Sorting\n",
    "\n",
    "Sorting pada array dapat dilakukan dengan menggunakan method Arrays.sort.\n",
    "\n",
    "#### Tugas 4.4\n",
    "potongan kode dibawah ini menggunakan fungsi *Arrays.sort*, jalankan sempurnakan jika ada error/kesalahan  "
   ]
  },
  {
   "cell_type": "code",
   "execution_count": null,
   "metadata": {},
   "outputs": [],
   "source": [
    "//Program 4.3 \n",
    "import java.util.Arrays;\n",
    "\n",
    "\n",
    "   int[] tinggi;\n",
    "   tinggi = new int[3]\n",
    "   tinggi[0] : 5;  //asignment\n",
    "   tinggi[1] : 6;\n",
    "   tinggi[2] : 3;\n",
    "   Arrays.sort(tinggi);   \n",
    "   for(n:tinggi) {\n",
    "       System.out.println(\"Tinggi adalah\"+n);\n",
    "   }"
   ]
  },
  {
   "cell_type": "markdown",
   "metadata": {},
   "source": [
    "### Array: Dua Dimensi\n",
    "Deklarasi dan inisiasi array dua dimensi adalah sebagai berikut:\n",
    "``` javascript\n",
    "double[][] matriks = new double[1][1];\n",
    "```\n",
    "Contoh:"
   ]
  },
  {
   "cell_type": "code",
   "execution_count": null,
   "metadata": {},
   "outputs": [],
   "source": [
    "//Program 4.4\n",
    "   double[][] matriks = new double[2][2];  // 2 x 2\n",
    "   \n",
    "   matriks[0][0] = 0;\n",
    "   matriks[0][1] = 1;   \n",
    "   matriks[1][0] = 2;\n",
    "   matriks[1][1] = 3;\n",
    "   \n",
    "   //cara biasa\n",
    "   for(int i=0;i<matriks.length;i++) {\n",
    "       for (int j=0;j<matriks[i].length;j++) {\n",
    "         System.out.printf(\"Nilai [%d,%d] = %4.2f \\n\",i,j,matriks[i][j]);  \n",
    "       }      \n",
    "   }\n",
    "   \n",
    "   //cara foreach\n",
    "   for(double[] baris:matriks) {\n",
    "       for (double val:baris) {\n",
    "         System.out.println(\"Nilai = \"+val);  \n",
    "       }      \n",
    "   }"
   ]
  },
  {
   "cell_type": "markdown",
   "metadata": {},
   "source": [
    "Cara inisiasi yang lebih ringkas:\n",
    "``` javascript\n",
    "\tdouble[][] matriks = new double[][]\n",
    "    \t{\n",
    "    \t   {0,1},\n",
    "    \t   {2,3}\n",
    "    \t};\n",
    "    \t   \n",
    "   // ....\n",
    "\n",
    "```\n",
    "#### Tugas 4.5\n",
    "\n",
    "Modifikasi *Program 4.4*, ganti inisiasi menjadi lebih ringkas seperti syntax diatas"
   ]
  },
  {
   "cell_type": "code",
   "execution_count": null,
   "metadata": {},
   "outputs": [],
   "source": []
  },
  {
   "cell_type": "markdown",
   "metadata": {},
   "source": [
    "#### Tugas 4.6\n",
    "\n",
    "Buatlah program penjumlahan dua matriks [4 x 4]. Program menampilkan matriks pertama, kedua  dan hasil penjumlahan kedua  matriks."
   ]
  },
  {
   "cell_type": "code",
   "execution_count": null,
   "metadata": {},
   "outputs": [],
   "source": []
  }
 ],
 "metadata": {
  "kernelspec": {
   "display_name": "Java",
   "language": "java",
   "name": "java"
  },
  "language_info": {
   "codemirror_mode": "text/x-java",
   "file_extension": ".java",
   "mimetype": "",
   "name": "Java",
   "nbconverter_exporter": "",
   "version": "1.8.0_121"
  },
  "toc": {
   "base_numbering": 1,
   "nav_menu": {},
   "number_sections": false,
   "sideBar": false,
   "skip_h1_title": false,
   "title_cell": "Table of Contents",
   "title_sidebar": "Contents",
   "toc_cell": false,
   "toc_position": {},
   "toc_section_display": false,
   "toc_window_display": false
  }
 },
 "nbformat": 4,
 "nbformat_minor": 2
}

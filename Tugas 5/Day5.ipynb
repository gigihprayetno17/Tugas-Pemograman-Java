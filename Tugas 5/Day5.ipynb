{
 "cells": [
  {
   "cell_type": "code",
   "execution_count": 2,
   "metadata": {},
   "outputs": [
    {
     "data": {
      "text/plain": [
       "com.twosigma.beaker.javash.bkr9a0f5b45.Calculator"
      ]
     },
     "execution_count": 2,
     "metadata": {},
     "output_type": "execute_result"
    }
   ],
   "source": [
    "//Program 5.1 pendefinisian class Calculator\n",
    "\n",
    "class Calculator{\n",
    "    //Kompunen attribut\n",
    "    int x;\n",
    "    int y;\n",
    "    int hasil;\n",
    "    \n",
    "   //Kompunen method/fungsi konstruktor\n",
    "\n",
    "   //Kompunen method/fungsi generall\n",
    "\n",
    "}\n"
   ]
  },
  {
   "cell_type": "code",
   "execution_count": 3,
   "metadata": {},
   "outputs": [
    {
     "name": "stdout",
     "output_type": "stream",
     "text": [
      "Hasil 30\n"
     ]
    },
    {
     "data": {
      "text/plain": [
       "null"
      ]
     },
     "execution_count": 3,
     "metadata": {},
     "output_type": "execute_result"
    }
   ],
   "source": [
    "//Program 5.2 implementasi class\n",
    "\n",
    "Calculator varobjCalculator = new Calculator();\n",
    "varobjCalculator.x = 20;\n",
    "varobjCalculator.y = 10;\n",
    "varobjCalculator.hasil = varobjCalculator.y + varobjCalculator.x;\n",
    "System.out.println(\"Hasil \"+ varobjCalculator.hasil);"
   ]
  },
  {
   "cell_type": "code",
   "execution_count": 10,
   "metadata": {},
   "outputs": [
    {
     "name": "stdout",
     "output_type": "stream",
     "text": [
      "Hasil objCalculatorKu 80\n",
      "Hasil varobjCalculatorMu 90\n"
     ]
    },
    {
     "data": {
      "text/plain": [
       "null"
      ]
     },
     "execution_count": 10,
     "metadata": {},
     "output_type": "execute_result"
    }
   ],
   "source": [
    "//Program 5.3 implementasi objek dari suatau class\n",
    "\n",
    "Calculator objCalculatorKu = new Calculator();\n",
    "\n",
    "Calculator objCalculatorMu = new Calculator();\n",
    "\n",
    "objCalculatorKu.x = 60;\n",
    "objCalculatorKu.y = 20;\n",
    "\n",
    "objCalculatorKu.hasil = objCalculatorKu.y + objCalculatorKu.x;\n",
    "System.out.println(\"Hasil objCalculatorKu \"+ objCalculatorKu.hasil);\n",
    "\n",
    "objCalculatorMu.x = 40;\n",
    "objCalculatorMu.y = 50;\n",
    "\n",
    "objCalculatorMu.hasil = objCalculatorMu.y + objCalculatorMu.x;\n",
    "System.out.println(\"Hasil varobjCalculatorMu \"+ objCalculatorMu.hasil);\n"
   ]
  },
  {
   "cell_type": "code",
   "execution_count": 17,
   "metadata": {},
   "outputs": [
    {
     "ename": "cannot find symbol",
     "evalue": "cannot find symbol",
     "output_type": "error",
     "traceback": [
      "\u001b[1;31mcannot find symbol\u001b[0;0m",
      "\u001b[1;31m  symbol:   method infoHasil()\u001b[0;0m",
      "\u001b[0;31m  location: variable varobjCalculator of type com.twosigma.beaker.javash.bkr9a0f5b45.Calculator\u001b[0;0m",
      "\u001b[0;31m varobjCalculator.infoHasil()\u001b[0;0m",
      "\u001b[0;31m ^                         ^   \u001b[0;0m",
      "\u001b[0;31m\u001b[0;0m",
      "\u001b[0;31mcannot find symbol\u001b[0;0m",
      "\u001b[0;31m  symbol:   variable hasil\u001b[0;0m",
      "\u001b[0;31m  location: class com.twosigma.beaker.javash.bkr9a0f5b45.BeakerWrapperClass1261714175Idd89796cce0554563980e0acb958aa5e6\u001b[0;0m",
      "\u001b[0;31mprintln(\"Isi atribut hasil : \"+hasil)\u001b[0;0m",
      "\u001b[0;31m                               ^    ^  \u001b[0;0m"
     ]
    }
   ],
   "source": [
    "Calculator varobjCalculator = new Calculator();{\n",
    "varobjCalculator.x = 20;\n",
    "varobjCalculator.y = 10;\n",
    "varobjCalculator.hasil = varobjCalculator.y + varobjCalculator.x;\n",
    "\n",
    "varobjCalculator.infoHasil();\n",
    "{\n",
    "      System.out.println(\"Isi atribut hasil : \"+hasil);  \n",
    "    }  \n",
    "}"
   ]
  },
  {
   "cell_type": "code",
   "execution_count": null,
   "metadata": {},
   "outputs": [],
   "source": []
  }
 ],
 "metadata": {
  "kernelspec": {
   "display_name": "Java",
   "language": "java",
   "name": "java"
  },
  "language_info": {
   "codemirror_mode": "text/x-java",
   "file_extension": ".java",
   "mimetype": "",
   "name": "Java",
   "nbconverter_exporter": "",
   "version": "1.8.0_121"
  },
  "toc": {
   "base_numbering": 1,
   "nav_menu": {},
   "number_sections": false,
   "sideBar": false,
   "skip_h1_title": false,
   "title_cell": "Table of Contents",
   "title_sidebar": "Contents",
   "toc_cell": false,
   "toc_position": {},
   "toc_section_display": false,
   "toc_window_display": false
  }
 },
 "nbformat": 4,
 "nbformat_minor": 2
}
